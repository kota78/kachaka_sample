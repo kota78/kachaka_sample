{
 "cells": [
  {
   "cell_type": "markdown",
   "id": "4bcba01b-7d02-4d53-84b1-e5d71ae5b8f5",
   "metadata": {},
   "source": [
    "# カメラ画像の連続取得"
   ]
  },
  {
   "cell_type": "code",
   "execution_count": 3,
   "id": "8d08024f-7938-4a12-8e9b-a24229816b10",
   "metadata": {},
   "outputs": [],
   "source": [
    "import kachaka_api\n",
    "from IPython.display import Image, clear_output, display"
   ]
  },
  {
   "cell_type": "code",
   "execution_count": null,
   "id": "ad074c66-1ac6-4888-8536-31da6c52a647",
   "metadata": {},
   "outputs": [],
   "source": [
    "client = kachaka_api.aio.KachakaApiClient(\"192.168.11.8:26400\")"
   ]
  },
  {
   "cell_type": "code",
   "execution_count": 1,
   "id": "b712840e",
   "metadata": {},
   "outputs": [
    {
     "ename": "NameError",
     "evalue": "name 'client' is not defined",
     "output_type": "error",
     "traceback": [
      "\u001b[1;31m---------------------------------------------------------------------------\u001b[0m",
      "\u001b[1;31mNameError\u001b[0m                                 Traceback (most recent call last)",
      "Cell \u001b[1;32mIn[1], line 1\u001b[0m\n\u001b[1;32m----> 1\u001b[0m \u001b[38;5;28;01masync\u001b[39;00m \u001b[38;5;28;01mfor\u001b[39;00m image \u001b[38;5;129;01min\u001b[39;00m \u001b[43mclient\u001b[49m\u001b[38;5;241m.\u001b[39mfront_camera_ros_compressed_image\u001b[38;5;241m.\u001b[39mstream():\n\u001b[0;32m      2\u001b[0m     clear_output(wait\u001b[38;5;241m=\u001b[39m\u001b[38;5;28;01mTrue\u001b[39;00m)\n\u001b[0;32m      3\u001b[0m     display(Image(data\u001b[38;5;241m=\u001b[39mimage\u001b[38;5;241m.\u001b[39mdata, \u001b[38;5;28mformat\u001b[39m\u001b[38;5;241m=\u001b[39m\u001b[38;5;124m\"\u001b[39m\u001b[38;5;124mjpeg\u001b[39m\u001b[38;5;124m\"\u001b[39m))\n",
      "\u001b[1;31mNameError\u001b[0m: name 'client' is not defined"
     ]
    }
   ],
   "source": [
    "async for image in client.front_camera_ros_compressed_image.stream():\n",
    "    clear_output(wait=True)\n",
    "    display(Image(data=image.data, format=\"jpeg\"))"
   ]
  }
 ],
 "metadata": {
  "kernelspec": {
   "display_name": "base",
   "language": "python",
   "name": "python3"
  },
  "language_info": {
   "codemirror_mode": {
    "name": "ipython",
    "version": 3
   },
   "file_extension": ".py",
   "mimetype": "text/x-python",
   "name": "python",
   "nbconvert_exporter": "python",
   "pygments_lexer": "ipython3",
   "version": "3.11.7"
  }
 },
 "nbformat": 4,
 "nbformat_minor": 5
}
