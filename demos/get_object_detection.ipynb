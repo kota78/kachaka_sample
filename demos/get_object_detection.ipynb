{
 "cells": [
  {
   "cell_type": "markdown",
   "id": "4bcba01b-7d02-4d53-84b1-e5d71ae5b8f5",
   "metadata": {},
   "source": [
    "# 画像による物体検出"
   ]
  },
  {
   "cell_type": "code",
   "execution_count": null,
   "id": "8d08024f-7938-4a12-8e9b-a24229816b10",
   "metadata": {},
   "outputs": [],
   "source": [
    "import asyncio\n",
    "\n",
    "import kachaka_api\n",
    "from IPython.display import clear_output, display\n",
    "from kachaka_api.util.vision import OBJECT_LABEL, get_bbox_drawn_image\n",
    "\n",
    "client = kachaka_api.aio.KachakaApiClient()\n",
    "stream_i = client.front_camera_ros_compressed_image.stream()\n",
    "stream_d = client.object_detection.stream()\n",
    "while True:\n",
    "    image, (header, objects) = await asyncio.gather(anext(stream_i), anext(stream_d))\n",
    "    img = get_bbox_drawn_image(image, objects)\n",
    "    clear_output(wait=True)\n",
    "    display(img)\n",
    "    for object in objects:\n",
    "        display(f\"{OBJECT_LABEL[object.label]}, score={object.score:.2f}\")"
   ]
  }
 ],
 "metadata": {
  "kernelspec": {
   "display_name": "Python 3 (ipykernel)",
   "language": "python",
   "name": "python3"
  },
  "language_info": {
   "codemirror_mode": {
    "name": "ipython",
    "version": 3
   },
   "file_extension": ".py",
   "mimetype": "text/x-python",
   "name": "python",
   "nbconvert_exporter": "python",
   "pygments_lexer": "ipython3",
   "version": "3.10.13"
  }
 },
 "nbformat": 4,
 "nbformat_minor": 5
}
