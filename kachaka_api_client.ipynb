{
 "cells": [
  {
   "cell_type": "markdown",
   "id": "970f7890-f7fd-41ce-9f87-1b963c52288f",
   "metadata": {},
   "source": [
    "# kachaka_apiライブラリ\n",
    "\n",
    "- kachaka_apiライブラリは、gRPCでの通信を意識することなくカチャカのAPIを使うことができるようにしたものです。\n",
    "\n",
    "## 同期ライブラリについて\n",
    "- このサンプルでは、kachaka_api.KachakaApiClientクラスを用いて、カチャカのAPIをメソッド呼びだしの形で実行していきます。\n",
    "- 非同期のライブラリも用意されています。詳細は、[非同期ライブラリ篇](./kachaka_api_client_async.ipynb)を参照してください。"
   ]
  },
  {
   "cell_type": "markdown",
   "id": "8ddf4a69-71b7-44ce-97f6-6deda8b407d4",
   "metadata": {},
   "source": [
    "#### 依存ライブラリのインストール\n",
    "- デフォルトではmatploblib, numpyはインストールされていません。必要に応じてインストールします。\n",
    "- pip installの実行後は、JupyterLabのカーネルをリスタートしてください"
   ]
  },
  {
   "cell_type": "code",
   "execution_count": 57,
   "id": "16584a15",
   "metadata": {},
   "outputs": [],
   "source": [
    "from IPython.display import Image, display"
   ]
  },
  {
   "cell_type": "code",
   "execution_count": 96,
   "id": "570adfd8-b287-4c90-b08d-81cd8deb3e56",
   "metadata": {},
   "outputs": [
    {
     "name": "stderr",
     "output_type": "stream",
     "text": [
      "\n",
      "Bad key axes3d.automargin in file c:\\Users\\ayaka\\anaconda3\\Lib\\site-packages\\matplotlib\\mpl-data\\matplotlibrc, line 436 ('axes3d.automargin: False  # automatically add margin when manually setting 3D axis limits')\n",
      "You probably need to get an updated matplotlibrc file from\n",
      "https://github.com/matplotlib/matplotlib/blob/v3.8.0/lib/matplotlib/mpl-data/matplotlibrc\n",
      "or from the matplotlib source distribution\n",
      "\n",
      "Bad key axes3d.mouserotationstyle in file c:\\Users\\ayaka\\anaconda3\\Lib\\site-packages\\matplotlib\\mpl-data\\matplotlibrc, line 442 ('axes3d.mouserotationstyle: arcball  # {azel, trackball, sphere, arcball}')\n",
      "You probably need to get an updated matplotlibrc file from\n",
      "https://github.com/matplotlib/matplotlib/blob/v3.8.0/lib/matplotlib/mpl-data/matplotlibrc\n",
      "or from the matplotlib source distribution\n",
      "\n",
      "Bad key axes3d.trackballsize in file c:\\Users\\ayaka\\anaconda3\\Lib\\site-packages\\matplotlib\\mpl-data\\matplotlibrc, line 444 ('axes3d.trackballsize: 0.667  # trackball diameter, in units of the Axes bbox')\n",
      "You probably need to get an updated matplotlibrc file from\n",
      "https://github.com/matplotlib/matplotlib/blob/v3.8.0/lib/matplotlib/mpl-data/matplotlibrc\n",
      "or from the matplotlib source distribution\n"
     ]
    },
    {
     "name": "stderr",
     "output_type": "stream",
     "text": [
      "\n",
      "Bad key axes3d.trackballborder in file c:\\Users\\ayaka\\anaconda3\\Lib\\site-packages\\matplotlib\\mpl-data\\matplotlibrc, line 445 (\"axes3d.trackballborder: 0.2  # trackball border width, in units of the Axes bbox (only for 'sphere' and 'arcball' style)\")\n",
      "You probably need to get an updated matplotlibrc file from\n",
      "https://github.com/matplotlib/matplotlib/blob/v3.8.0/lib/matplotlib/mpl-data/matplotlibrc\n",
      "or from the matplotlib source distribution\n",
      "\n",
      "Bad key image.interpolation_stage in file c:\\Users\\ayaka\\anaconda3\\Lib\\site-packages\\matplotlib\\mpl-data\\matplotlibrc, line 617 ('image.interpolation_stage: auto     # see help(imshow) for options')\n",
      "You probably need to get an updated matplotlibrc file from\n",
      "https://github.com/matplotlib/matplotlib/blob/v3.8.0/lib/matplotlib/mpl-data/matplotlibrc\n",
      "or from the matplotlib source distribution\n",
      "\n",
      "Bad key svg.id in file c:\\Users\\ayaka\\anaconda3\\Lib\\site-packages\\matplotlib\\mpl-data\\matplotlibrc, line 749 ('svg.id: None            # If not None, use this string as the value for the `id`')\n",
      "You probably need to get an updated matplotlibrc file from\n",
      "https://github.com/matplotlib/matplotlib/blob/v3.8.0/lib/matplotlib/mpl-data/matplotlibrc\n",
      "or from the matplotlib source distribution\n"
     ]
    },
    {
     "ename": "AttributeError",
     "evalue": "'_ArtistPropertiesSubstitution' object has no attribute 'register'",
     "output_type": "error",
     "traceback": [
      "\u001b[1;31m---------------------------------------------------------------------------\u001b[0m",
      "\u001b[1;31mAttributeError\u001b[0m                            Traceback (most recent call last)",
      "Cell \u001b[1;32mIn[96], line 1\u001b[0m\n\u001b[1;32m----> 1\u001b[0m \u001b[38;5;28;01mimport\u001b[39;00m\u001b[38;5;250m \u001b[39m\u001b[38;5;21;01mmatplotlib\u001b[39;00m\u001b[38;5;21;01m.\u001b[39;00m\u001b[38;5;21;01mpyplot\u001b[39;00m\u001b[38;5;250m \u001b[39m\u001b[38;5;28;01mas\u001b[39;00m\u001b[38;5;250m \u001b[39m\u001b[38;5;21;01mplt\u001b[39;00m\n\u001b[0;32m      2\u001b[0m \u001b[38;5;28;01mimport\u001b[39;00m\u001b[38;5;250m \u001b[39m\u001b[38;5;21;01mnumpy\u001b[39;00m\u001b[38;5;250m \u001b[39m\u001b[38;5;28;01mas\u001b[39;00m\u001b[38;5;250m \u001b[39m\u001b[38;5;21;01mnp\u001b[39;00m\n\u001b[0;32m      3\u001b[0m \u001b[38;5;28;01mfrom\u001b[39;00m\u001b[38;5;250m \u001b[39m\u001b[38;5;21;01mIPython\u001b[39;00m\u001b[38;5;21;01m.\u001b[39;00m\u001b[38;5;21;01mdisplay\u001b[39;00m\u001b[38;5;250m \u001b[39m\u001b[38;5;28;01mimport\u001b[39;00m Image, display\n",
      "File \u001b[1;32mc:\\Users\\ayaka\\anaconda3\\Lib\\site-packages\\matplotlib\\__init__.py:1573\u001b[0m\n\u001b[0;32m   1568\u001b[0m     \u001b[38;5;28;01mreturn\u001b[39;00m rcsetup\u001b[38;5;241m.\u001b[39mvalidate_backend(s)\n\u001b[0;32m   1571\u001b[0m \u001b[38;5;66;03m# workaround: we must defer colormaps import to after loading rcParams, because\u001b[39;00m\n\u001b[0;32m   1572\u001b[0m \u001b[38;5;66;03m# colormap creation depends on rcParams\u001b[39;00m\n\u001b[1;32m-> 1573\u001b[0m \u001b[38;5;28;01mfrom\u001b[39;00m\u001b[38;5;250m \u001b[39m\u001b[38;5;21;01mmatplotlib\u001b[39;00m\u001b[38;5;21;01m.\u001b[39;00m\u001b[38;5;21;01mcm\u001b[39;00m\u001b[38;5;250m \u001b[39m\u001b[38;5;28;01mimport\u001b[39;00m _colormaps \u001b[38;5;28;01mas\u001b[39;00m colormaps  \u001b[38;5;66;03m# noqa: E402\u001b[39;00m\n\u001b[0;32m   1574\u001b[0m \u001b[38;5;28;01mfrom\u001b[39;00m\u001b[38;5;250m \u001b[39m\u001b[38;5;21;01mmatplotlib\u001b[39;00m\u001b[38;5;21;01m.\u001b[39;00m\u001b[38;5;21;01mcm\u001b[39;00m\u001b[38;5;250m \u001b[39m\u001b[38;5;28;01mimport\u001b[39;00m _multivar_colormaps \u001b[38;5;28;01mas\u001b[39;00m multivar_colormaps  \u001b[38;5;66;03m# noqa: E402\u001b[39;00m\n\u001b[0;32m   1575\u001b[0m \u001b[38;5;28;01mfrom\u001b[39;00m\u001b[38;5;250m \u001b[39m\u001b[38;5;21;01mmatplotlib\u001b[39;00m\u001b[38;5;21;01m.\u001b[39;00m\u001b[38;5;21;01mcm\u001b[39;00m\u001b[38;5;250m \u001b[39m\u001b[38;5;28;01mimport\u001b[39;00m _bivar_colormaps \u001b[38;5;28;01mas\u001b[39;00m bivar_colormaps  \u001b[38;5;66;03m# noqa: E402\u001b[39;00m\n",
      "File \u001b[1;32mc:\\Users\\ayaka\\anaconda3\\Lib\\site-packages\\matplotlib\\cm.py:22\u001b[0m\n\u001b[0;32m     20\u001b[0m \u001b[38;5;28;01mfrom\u001b[39;00m\u001b[38;5;250m \u001b[39m\u001b[38;5;21;01mmatplotlib\u001b[39;00m\u001b[38;5;250m \u001b[39m\u001b[38;5;28;01mimport\u001b[39;00m _api, colors\n\u001b[0;32m     21\u001b[0m \u001b[38;5;66;03m# TODO make this warn on access\u001b[39;00m\n\u001b[1;32m---> 22\u001b[0m \u001b[38;5;28;01mfrom\u001b[39;00m\u001b[38;5;250m \u001b[39m\u001b[38;5;21;01mmatplotlib\u001b[39;00m\u001b[38;5;21;01m.\u001b[39;00m\u001b[38;5;21;01mcolorizer\u001b[39;00m\u001b[38;5;250m \u001b[39m\u001b[38;5;28;01mimport\u001b[39;00m _ScalarMappable \u001b[38;5;28;01mas\u001b[39;00m ScalarMappable  \u001b[38;5;66;03m# noqa\u001b[39;00m\n\u001b[0;32m     23\u001b[0m \u001b[38;5;28;01mfrom\u001b[39;00m\u001b[38;5;250m \u001b[39m\u001b[38;5;21;01mmatplotlib\u001b[39;00m\u001b[38;5;21;01m.\u001b[39;00m\u001b[38;5;21;01m_cm\u001b[39;00m\u001b[38;5;250m \u001b[39m\u001b[38;5;28;01mimport\u001b[39;00m datad\n\u001b[0;32m     24\u001b[0m \u001b[38;5;28;01mfrom\u001b[39;00m\u001b[38;5;250m \u001b[39m\u001b[38;5;21;01mmatplotlib\u001b[39;00m\u001b[38;5;21;01m.\u001b[39;00m\u001b[38;5;21;01m_cm_listed\u001b[39;00m\u001b[38;5;250m \u001b[39m\u001b[38;5;28;01mimport\u001b[39;00m cmaps \u001b[38;5;28;01mas\u001b[39;00m cmaps_listed\n",
      "File \u001b[1;32mc:\\Users\\ayaka\\anaconda3\\Lib\\site-packages\\matplotlib\\colorizer.py:30\u001b[0m\n\u001b[0;32m     27\u001b[0m \u001b[38;5;28;01mfrom\u001b[39;00m\u001b[38;5;250m \u001b[39m\u001b[38;5;21;01mmatplotlib\u001b[39;00m\u001b[38;5;250m \u001b[39m\u001b[38;5;28;01mimport\u001b[39;00m _api, colors, cbook, scale, artist\n\u001b[0;32m     28\u001b[0m \u001b[38;5;28;01mimport\u001b[39;00m\u001b[38;5;250m \u001b[39m\u001b[38;5;21;01mmatplotlib\u001b[39;00m\u001b[38;5;250m \u001b[39m\u001b[38;5;28;01mas\u001b[39;00m\u001b[38;5;250m \u001b[39m\u001b[38;5;21;01mmpl\u001b[39;00m\n\u001b[1;32m---> 30\u001b[0m \u001b[43mmpl\u001b[49m\u001b[38;5;241;43m.\u001b[39;49m\u001b[43m_docstring\u001b[49m\u001b[38;5;241;43m.\u001b[39;49m\u001b[43minterpd\u001b[49m\u001b[38;5;241;43m.\u001b[39;49m\u001b[43mregister\u001b[49m(\n\u001b[0;32m     31\u001b[0m     colorizer_doc\u001b[38;5;241m=\u001b[39m\u001b[38;5;124m\"\"\"\u001b[39m\u001b[38;5;130;01m\\\u001b[39;00m\n\u001b[0;32m     32\u001b[0m \u001b[38;5;124mcolorizer : `~matplotlib.colorizer.Colorizer` or None, default: None\u001b[39m\n\u001b[0;32m     33\u001b[0m \u001b[38;5;124m    The Colorizer object used to map color to data. If None, a Colorizer\u001b[39m\n\u001b[0;32m     34\u001b[0m \u001b[38;5;124m    object is created from a *norm* and *cmap*.\u001b[39m\u001b[38;5;124m\"\"\"\u001b[39m,\n\u001b[0;32m     35\u001b[0m     )\n\u001b[0;32m     38\u001b[0m \u001b[38;5;28;01mclass\u001b[39;00m\u001b[38;5;250m \u001b[39m\u001b[38;5;21;01mColorizer\u001b[39;00m:\n\u001b[0;32m     39\u001b[0m \u001b[38;5;250m    \u001b[39m\u001b[38;5;124;03m\"\"\"\u001b[39;00m\n\u001b[0;32m     40\u001b[0m \u001b[38;5;124;03m    Data to color pipeline.\u001b[39;00m\n\u001b[0;32m     41\u001b[0m \n\u001b[1;32m   (...)\u001b[0m\n\u001b[0;32m     51\u001b[0m \u001b[38;5;124;03m        The normalization used to normalize the data\u001b[39;00m\n\u001b[0;32m     52\u001b[0m \u001b[38;5;124;03m    \"\"\"\u001b[39;00m\n",
      "\u001b[1;31mAttributeError\u001b[0m: '_ArtistPropertiesSubstitution' object has no attribute 'register'"
     ]
    }
   ],
   "source": [
    "import matplotlib.pyplot as plt\n",
    "import numpy as np\n",
    "from IPython.display import Image, display"
   ]
  },
  {
   "cell_type": "markdown",
   "id": "3e5658fe-4163-44fd-8eb3-869ea763853a",
   "metadata": {},
   "source": [
    "## インポートとクライアントの作成\n",
    "- クライアントを作成します。1度だけでOKです。\n",
    "- 引数に`<カチャカのIPアドレス:26400>`を指定することで、本ライブラリを外部のPC等で利用することが可能です"
   ]
  },
  {
   "cell_type": "code",
   "execution_count": 7,
   "id": "1b81b3c6-ae9c-49ae-8455-0825eb79d92c",
   "metadata": {},
   "outputs": [],
   "source": [
    "import kachaka_api\n",
    "\n",
    "client = kachaka_api.KachakaApiClient(\"192.168.11.8:26400\")"
   ]
  },
  {
   "cell_type": "markdown",
   "id": "d08d4bb8-243d-4da4-a961-7acfdd7f1c91",
   "metadata": {},
   "source": [
    "## 各APIの実行\n",
    "\n",
    "- 以下では、各APIを実行するサンプルを提供します。"
   ]
  },
  {
   "cell_type": "markdown",
   "id": "f21bf4f1-c1e4-4c0f-90d9-4dcdc3bf9b16",
   "metadata": {},
   "source": [
    "### ロボットの個体情報の取得"
   ]
  },
  {
   "cell_type": "markdown",
   "id": "a2e000f4-8832-4dee-8d18-22a98ddc7640",
   "metadata": {},
   "source": [
    "#### ロボットのシリアル番号の取得"
   ]
  },
  {
   "cell_type": "code",
   "execution_count": 60,
   "id": "aca57ae0-dce0-424b-bbc3-de1a15150bd6",
   "metadata": {},
   "outputs": [
    {
     "data": {
      "text/plain": [
       "'BKP403F1T'"
      ]
     },
     "execution_count": 60,
     "metadata": {},
     "output_type": "execute_result"
    }
   ],
   "source": [
    "client.get_robot_serial_number()"
   ]
  },
  {
   "cell_type": "markdown",
   "id": "a33ba0da-d197-4cf5-8995-388be5c894b5",
   "metadata": {},
   "source": [
    "#### カチャカのソフトウェアバージョン情報の取得"
   ]
  },
  {
   "cell_type": "code",
   "execution_count": 8,
   "id": "c1573384-6dd7-4b42-b821-47d6ee505546",
   "metadata": {},
   "outputs": [
    {
     "data": {
      "text/plain": [
       "'3.10.7'"
      ]
     },
     "execution_count": 8,
     "metadata": {},
     "output_type": "execute_result"
    }
   ],
   "source": [
    "client.get_robot_version()"
   ]
  },
  {
   "cell_type": "markdown",
   "id": "0fe78765-735f-4c2f-90e9-4178382383f7",
   "metadata": {},
   "source": [
    "### 目的地・家具の情報の取得"
   ]
  },
  {
   "cell_type": "markdown",
   "id": "0f854eba-0dcb-486e-be49-9f04eb3fa14c",
   "metadata": {},
   "source": [
    "#### 目的地の情報一覧を取得\n",
    "- idは後述の関数で目的地を指定する際に使用します\n",
    "- poseの単位はロボットの姿勢同様にmおよびradianです"
   ]
  },
  {
   "cell_type": "code",
   "execution_count": 19,
   "id": "20581b1e-816c-40a7-b213-c73874b4a7ff",
   "metadata": {},
   "outputs": [
    {
     "data": {
      "text/plain": [
       "[id: \"L01\"\n",
       "name: \"お風呂\"\n",
       "pose {\n",
       "  x: 2.254298\n",
       "  y: -1.289411\n",
       "  theta: -1.5707959999999999\n",
       "}\n",
       ", id: \"S01_home\"\n",
       "name: \"ワゴンのホーム\"\n",
       "pose {\n",
       "  x: 0.98158777978855072\n",
       "  y: 0.69441168833372113\n",
       "  theta: -1.4715056494650316\n",
       "}\n",
       "type: LOCATION_TYPE_SHELF_HOME\n",
       "undock_shelf_aligning_to_wall: true\n",
       ", id: \"home\"\n",
       "name: \"充電ドック\"\n",
       "pose {\n",
       "  x: -0.009711\n",
       "  y: 0.021707\n",
       "  theta: -0.0010923071795867719\n",
       "}\n",
       "type: LOCATION_TYPE_CHARGER\n",
       "]"
      ]
     },
     "execution_count": 19,
     "metadata": {},
     "output_type": "execute_result"
    }
   ],
   "source": [
    "client.get_locations()"
   ]
  },
  {
   "cell_type": "markdown",
   "id": "af6568b4-6dc7-481e-b43d-c910b11678f3",
   "metadata": {},
   "source": [
    "#### デフォルト目的地のID取得\n",
    "- デフォルト目的地は、「〇〇を持ってきて」と目的地が省略された場合に使用されます"
   ]
  },
  {
   "cell_type": "code",
   "execution_count": 13,
   "id": "58a89ce3-7d5e-4ab6-8bec-bf8f87a7dfb0",
   "metadata": {},
   "outputs": [
    {
     "data": {
      "text/plain": [
       "'L01'"
      ]
     },
     "execution_count": 13,
     "metadata": {},
     "output_type": "execute_result"
    }
   ],
   "source": [
    "client.get_default_location_id()"
   ]
  },
  {
   "cell_type": "markdown",
   "id": "f0ff7f73-0c8f-4be6-b4dc-31ea6725a3a7",
   "metadata": {},
   "source": [
    "#### 家具情報一覧の取得\n",
    "- idは後述の関数で家具を指定する際に使用します\n",
    "- poseの単位はロボットの姿勢同様にmおよびradianです"
   ]
  },
  {
   "cell_type": "code",
   "execution_count": 61,
   "id": "631ef261-b901-4027-ac52-9b54745c542f",
   "metadata": {},
   "outputs": [
    {
     "data": {
      "text/plain": [
       "[id: \"S01\"\n",
       "name: \"ワゴン\"\n",
       "pose {\n",
       "  x: 0.93604974248008221\n",
       "  y: 0.66851829856707734\n",
       "  theta: -1.5048362369893338\n",
       "}\n",
       "size {\n",
       "  width: 0.37\n",
       "  depth: 0.32\n",
       "  height: 1.5\n",
       "}\n",
       "appearance: SHELF_APPEARANCE_KACHAKA_BASE\n",
       "recognizable_names {\n",
       "  name: \"ワゴン\"\n",
       "}\n",
       "home_location_id: \"S01_home\"\n",
       "speed_mode: SHELF_SPEED_MODE_NORMAL\n",
       "]"
      ]
     },
     "execution_count": 61,
     "metadata": {},
     "output_type": "execute_result"
    }
   ],
   "source": [
    "client.get_shelves()"
   ]
  },
  {
   "cell_type": "markdown",
   "id": "78906c01-b920-4b78-b526-5e3fbb35f5cf",
   "metadata": {},
   "source": [
    "#### ドッキング中の家具のIDの取得\n",
    "- idは上で取得できる一覧の中のいずれか、あるいはドッキングしていないときは空文字列を返します。"
   ]
  },
  {
   "cell_type": "code",
   "execution_count": 62,
   "id": "80259141-6b19-4716-a528-2706edf35c94",
   "metadata": {},
   "outputs": [
    {
     "data": {
      "text/plain": [
       "''"
      ]
     },
     "execution_count": 62,
     "metadata": {},
     "output_type": "execute_result"
    }
   ],
   "source": [
    "client.get_moving_shelf_id()"
   ]
  },
  {
   "cell_type": "markdown",
   "id": "555ce1f9-502c-44c4-8f18-9eb7bf3d32fe",
   "metadata": {},
   "source": [
    "### コマンドの実行"
   ]
  },
  {
   "cell_type": "markdown",
   "id": "69d703e6-5d74-4a5b-abab-29aa70107c46",
   "metadata": {},
   "source": [
    "#### 家具の移動\n",
    "- 家具ID, 目的地IDを指定すると、指定した家具を目的地へ運びます。\n",
    "- IDの一覧は、それぞれ前述のget_shelves(), get_locations()で取得できます。"
   ]
  },
  {
   "cell_type": "code",
   "execution_count": 14,
   "id": "75404ccd-a3a0-4c7a-aeee-dfe822429085",
   "metadata": {},
   "outputs": [
    {
     "name": "stdout",
     "output_type": "stream",
     "text": [
      "Failed to get shelf id of S01\n",
      "Failed to get location id of L01\n"
     ]
    },
    {
     "data": {
      "text/plain": [
       "success: true"
      ]
     },
     "execution_count": 14,
     "metadata": {},
     "output_type": "execute_result"
    }
   ],
   "source": [
    "client.move_shelf(\"S01\", \"L01\")"
   ]
  },
  {
   "cell_type": "markdown",
   "id": "e9a04c38-095a-46f6-8911-f2ef1b9ef660",
   "metadata": {},
   "source": [
    "#### 家具および目的を名前で指定する\n",
    "* kachaka_apiライブラリでは家具、目的地の名前を指定してすることもできます。\n",
    "* 下記のように`update_resolver`を呼び出すことで名前テーブルを更新します。\n",
    "* 家具や目的地の増減があった場合は`update_resolver`を再度呼び出して反映する必要があります。"
   ]
  },
  {
   "cell_type": "code",
   "execution_count": null,
   "id": "e7ee4097-a5b2-49de-972f-64c923ba2bd8",
   "metadata": {},
   "outputs": [],
   "source": [
    "client.update_resolver()\n",
    "client.move_shelf(\"シェルフ\", \"ダイニング\")"
   ]
  },
  {
   "cell_type": "markdown",
   "id": "c95206be-c46f-496c-96ba-b144529c8ba6",
   "metadata": {},
   "source": [
    "#### 家具の片付け\n",
    "- 指定した家具を片付けます。"
   ]
  },
  {
   "cell_type": "code",
   "execution_count": 17,
   "id": "18f85bae-81cf-41e1-ad53-123f7ced5beb",
   "metadata": {},
   "outputs": [
    {
     "name": "stdout",
     "output_type": "stream",
     "text": [
      "Failed to get shelf id of S01\n"
     ]
    },
    {
     "data": {
      "text/plain": [
       "success: true"
      ]
     },
     "execution_count": 17,
     "metadata": {},
     "output_type": "execute_result"
    }
   ],
   "source": [
    "client.return_shelf(\"S01\")"
   ]
  },
  {
   "cell_type": "markdown",
   "id": "4c520ec3-f191-467d-99b8-3b91d6049241",
   "metadata": {},
   "source": [
    "- 引数を省略すると、いま載せている家具を片付けます。"
   ]
  },
  {
   "cell_type": "code",
   "execution_count": null,
   "id": "1cb243ca-b1d5-4bd9-8a52-e178ca08fd14",
   "metadata": {},
   "outputs": [],
   "source": [
    "client.return_shelf()"
   ]
  },
  {
   "cell_type": "markdown",
   "id": "f81ef860-7f60-4b1c-aa69-91bd644a81b7",
   "metadata": {},
   "source": [
    "#### 家具を置く\n",
    "- 載せている家具をその場に置きます。"
   ]
  },
  {
   "cell_type": "code",
   "execution_count": 15,
   "id": "edd919e8-7be2-4a3a-a798-bb2b3099c27c",
   "metadata": {},
   "outputs": [
    {
     "data": {
      "text/plain": [
       "success: true"
      ]
     },
     "execution_count": 15,
     "metadata": {},
     "output_type": "execute_result"
    }
   ],
   "source": [
    "client.undock_shelf()"
   ]
  },
  {
   "cell_type": "markdown",
   "id": "1845b918-4fe9-4116-80c0-b512ce85adf9",
   "metadata": {},
   "source": [
    "#### 目的地への移動"
   ]
  },
  {
   "cell_type": "code",
   "execution_count": null,
   "id": "f8a72794-2518-4237-a6ac-486440618f54",
   "metadata": {},
   "outputs": [],
   "source": [
    "client.move_to_location(\"L01\")"
   ]
  },
  {
   "cell_type": "markdown",
   "id": "0359e4cc-4e4b-4d9c-b908-689bf945700c",
   "metadata": {},
   "source": [
    "#### 充電ドックに行く"
   ]
  },
  {
   "cell_type": "code",
   "execution_count": 79,
   "id": "e2237bc0-4d15-4b30-8c62-678647133963",
   "metadata": {},
   "outputs": [
    {
     "data": {
      "text/plain": [
       "success: true"
      ]
     },
     "execution_count": 79,
     "metadata": {},
     "output_type": "execute_result"
    }
   ],
   "source": [
    "client.return_home()"
   ]
  },
  {
   "cell_type": "markdown",
   "id": "aec996bb-fc2d-4459-94ad-63506513f186",
   "metadata": {},
   "source": [
    "#### 家具を載せる\n",
    "- カチャカの前にある家具を載せます"
   ]
  },
  {
   "cell_type": "code",
   "execution_count": 48,
   "id": "90ddb574-7dae-452a-8781-86bd409d0d68",
   "metadata": {},
   "outputs": [
    {
     "ename": "KeyboardInterrupt",
     "evalue": "",
     "output_type": "error",
     "traceback": [
      "\u001b[1;31m---------------------------------------------------------------------------\u001b[0m",
      "\u001b[1;31mKeyboardInterrupt\u001b[0m                         Traceback (most recent call last)",
      "Cell \u001b[1;32mIn[48], line 1\u001b[0m\n\u001b[1;32m----> 1\u001b[0m \u001b[43mclient\u001b[49m\u001b[38;5;241;43m.\u001b[39;49m\u001b[43mdock_shelf\u001b[49m\u001b[43m(\u001b[49m\u001b[43m)\u001b[49m\n",
      "File \u001b[1;32mc:\\Users\\ayaka\\anaconda3\\Lib\\site-packages\\kachaka_api\\base.py:360\u001b[0m, in \u001b[0;36mKachakaApiClientBase.dock_shelf\u001b[1;34m(self, wait_for_completion, cancel_all, tts_on_success, title)\u001b[0m\n\u001b[0;32m    352\u001b[0m \u001b[38;5;28;01mdef\u001b[39;00m\u001b[38;5;250m \u001b[39m\u001b[38;5;21mdock_shelf\u001b[39m(\n\u001b[0;32m    353\u001b[0m     \u001b[38;5;28mself\u001b[39m,\n\u001b[0;32m    354\u001b[0m     \u001b[38;5;241m*\u001b[39m,\n\u001b[1;32m   (...)\u001b[0m\n\u001b[0;32m    358\u001b[0m     title: \u001b[38;5;28mstr\u001b[39m \u001b[38;5;241m=\u001b[39m \u001b[38;5;124m\"\u001b[39m\u001b[38;5;124m\"\u001b[39m,\n\u001b[0;32m    359\u001b[0m ) \u001b[38;5;241m-\u001b[39m\u001b[38;5;241m>\u001b[39m pb2\u001b[38;5;241m.\u001b[39mResult:\n\u001b[1;32m--> 360\u001b[0m     \u001b[38;5;28;01mreturn\u001b[39;00m \u001b[38;5;28;43mself\u001b[39;49m\u001b[38;5;241;43m.\u001b[39;49m\u001b[43mstart_command\u001b[49m\u001b[43m(\u001b[49m\n\u001b[0;32m    361\u001b[0m \u001b[43m        \u001b[49m\u001b[43mpb2\u001b[49m\u001b[38;5;241;43m.\u001b[39;49m\u001b[43mCommand\u001b[49m\u001b[43m(\u001b[49m\u001b[43mdock_shelf_command\u001b[49m\u001b[38;5;241;43m=\u001b[39;49m\u001b[43mpb2\u001b[49m\u001b[38;5;241;43m.\u001b[39;49m\u001b[43mDockShelfCommand\u001b[49m\u001b[43m(\u001b[49m\u001b[43m)\u001b[49m\u001b[43m)\u001b[49m\u001b[43m,\u001b[49m\n\u001b[0;32m    362\u001b[0m \u001b[43m        \u001b[49m\u001b[43mwait_for_completion\u001b[49m\u001b[38;5;241;43m=\u001b[39;49m\u001b[43mwait_for_completion\u001b[49m\u001b[43m,\u001b[49m\n\u001b[0;32m    363\u001b[0m \u001b[43m        \u001b[49m\u001b[43mcancel_all\u001b[49m\u001b[38;5;241;43m=\u001b[39;49m\u001b[43mcancel_all\u001b[49m\u001b[43m,\u001b[49m\n\u001b[0;32m    364\u001b[0m \u001b[43m        \u001b[49m\u001b[43mtts_on_success\u001b[49m\u001b[38;5;241;43m=\u001b[39;49m\u001b[43mtts_on_success\u001b[49m\u001b[43m,\u001b[49m\n\u001b[0;32m    365\u001b[0m \u001b[43m        \u001b[49m\u001b[43mtitle\u001b[49m\u001b[38;5;241;43m=\u001b[39;49m\u001b[43mtitle\u001b[49m\u001b[43m,\u001b[49m\n\u001b[0;32m    366\u001b[0m \u001b[43m    \u001b[49m\u001b[43m)\u001b[49m\n",
      "File \u001b[1;32mc:\\Users\\ayaka\\anaconda3\\Lib\\site-packages\\kachaka_api\\base.py:240\u001b[0m, in \u001b[0;36mKachakaApiClientBase.start_command\u001b[1;34m(self, command, wait_for_completion, cancel_all, tts_on_success, title)\u001b[0m\n\u001b[0;32m    237\u001b[0m     \u001b[38;5;28;01mreturn\u001b[39;00m response\u001b[38;5;241m.\u001b[39mresult\n\u001b[0;32m    238\u001b[0m \u001b[38;5;28;01mwhile\u001b[39;00m \u001b[38;5;28;01mTrue\u001b[39;00m:\n\u001b[0;32m    239\u001b[0m     command_result_response: pb2\u001b[38;5;241m.\u001b[39mGetLastCommandResultResponse \u001b[38;5;241m=\u001b[39m (\n\u001b[1;32m--> 240\u001b[0m         \u001b[38;5;28;43mself\u001b[39;49m\u001b[38;5;241;43m.\u001b[39;49m\u001b[43mstub\u001b[49m\u001b[38;5;241;43m.\u001b[39;49m\u001b[43mGetLastCommandResult\u001b[49m\u001b[43m(\u001b[49m\n\u001b[0;32m    241\u001b[0m \u001b[43m            \u001b[49m\u001b[43mpb2\u001b[49m\u001b[38;5;241;43m.\u001b[39;49m\u001b[43mGetRequest\u001b[49m\u001b[43m(\u001b[49m\u001b[43mmetadata\u001b[49m\u001b[38;5;241;43m=\u001b[39;49m\u001b[43mcommand_state_metadata\u001b[49m\u001b[43m)\u001b[49m\n\u001b[0;32m    242\u001b[0m \u001b[43m        \u001b[49m\u001b[43m)\u001b[49m\n\u001b[0;32m    243\u001b[0m     )\n\u001b[0;32m    244\u001b[0m     command_state_metadata\u001b[38;5;241m.\u001b[39mcursor \u001b[38;5;241m=\u001b[39m (\n\u001b[0;32m    245\u001b[0m         command_result_response\u001b[38;5;241m.\u001b[39mmetadata\u001b[38;5;241m.\u001b[39mcursor\n\u001b[0;32m    246\u001b[0m     )\n\u001b[0;32m    247\u001b[0m     \u001b[38;5;28;01mif\u001b[39;00m command_result_response\u001b[38;5;241m.\u001b[39mcommand_id \u001b[38;5;241m==\u001b[39m response\u001b[38;5;241m.\u001b[39mcommand_id:\n",
      "File \u001b[1;32mc:\\Users\\ayaka\\anaconda3\\Lib\\site-packages\\grpc\\_channel.py:1178\u001b[0m, in \u001b[0;36m_UnaryUnaryMultiCallable.__call__\u001b[1;34m(self, request, timeout, metadata, credentials, wait_for_ready, compression)\u001b[0m\n\u001b[0;32m   1166\u001b[0m \u001b[38;5;28;01mdef\u001b[39;00m\u001b[38;5;250m \u001b[39m\u001b[38;5;21m__call__\u001b[39m(\n\u001b[0;32m   1167\u001b[0m     \u001b[38;5;28mself\u001b[39m,\n\u001b[0;32m   1168\u001b[0m     request: Any,\n\u001b[1;32m   (...)\u001b[0m\n\u001b[0;32m   1173\u001b[0m     compression: Optional[grpc\u001b[38;5;241m.\u001b[39mCompression] \u001b[38;5;241m=\u001b[39m \u001b[38;5;28;01mNone\u001b[39;00m,\n\u001b[0;32m   1174\u001b[0m ) \u001b[38;5;241m-\u001b[39m\u001b[38;5;241m>\u001b[39m Any:\n\u001b[0;32m   1175\u001b[0m     (\n\u001b[0;32m   1176\u001b[0m         state,\n\u001b[0;32m   1177\u001b[0m         call,\n\u001b[1;32m-> 1178\u001b[0m     ) \u001b[38;5;241m=\u001b[39m \u001b[38;5;28;43mself\u001b[39;49m\u001b[38;5;241;43m.\u001b[39;49m\u001b[43m_blocking\u001b[49m\u001b[43m(\u001b[49m\n\u001b[0;32m   1179\u001b[0m \u001b[43m        \u001b[49m\u001b[43mrequest\u001b[49m\u001b[43m,\u001b[49m\u001b[43m \u001b[49m\u001b[43mtimeout\u001b[49m\u001b[43m,\u001b[49m\u001b[43m \u001b[49m\u001b[43mmetadata\u001b[49m\u001b[43m,\u001b[49m\u001b[43m \u001b[49m\u001b[43mcredentials\u001b[49m\u001b[43m,\u001b[49m\u001b[43m \u001b[49m\u001b[43mwait_for_ready\u001b[49m\u001b[43m,\u001b[49m\u001b[43m \u001b[49m\u001b[43mcompression\u001b[49m\n\u001b[0;32m   1180\u001b[0m \u001b[43m    \u001b[49m\u001b[43m)\u001b[49m\n\u001b[0;32m   1181\u001b[0m     \u001b[38;5;28;01mreturn\u001b[39;00m _end_unary_response_blocking(state, call, \u001b[38;5;28;01mFalse\u001b[39;00m, \u001b[38;5;28;01mNone\u001b[39;00m)\n",
      "File \u001b[1;32mc:\\Users\\ayaka\\anaconda3\\Lib\\site-packages\\grpc\\_channel.py:1162\u001b[0m, in \u001b[0;36m_UnaryUnaryMultiCallable._blocking\u001b[1;34m(self, request, timeout, metadata, credentials, wait_for_ready, compression)\u001b[0m\n\u001b[0;32m   1145\u001b[0m state\u001b[38;5;241m.\u001b[39mtarget \u001b[38;5;241m=\u001b[39m _common\u001b[38;5;241m.\u001b[39mdecode(\u001b[38;5;28mself\u001b[39m\u001b[38;5;241m.\u001b[39m_target)\n\u001b[0;32m   1146\u001b[0m call \u001b[38;5;241m=\u001b[39m \u001b[38;5;28mself\u001b[39m\u001b[38;5;241m.\u001b[39m_channel\u001b[38;5;241m.\u001b[39msegregated_call(\n\u001b[0;32m   1147\u001b[0m     cygrpc\u001b[38;5;241m.\u001b[39mPropagationConstants\u001b[38;5;241m.\u001b[39mGRPC_PROPAGATE_DEFAULTS,\n\u001b[0;32m   1148\u001b[0m     \u001b[38;5;28mself\u001b[39m\u001b[38;5;241m.\u001b[39m_method,\n\u001b[1;32m   (...)\u001b[0m\n\u001b[0;32m   1160\u001b[0m     \u001b[38;5;28mself\u001b[39m\u001b[38;5;241m.\u001b[39m_registered_call_handle,\n\u001b[0;32m   1161\u001b[0m )\n\u001b[1;32m-> 1162\u001b[0m event \u001b[38;5;241m=\u001b[39m \u001b[43mcall\u001b[49m\u001b[38;5;241;43m.\u001b[39;49m\u001b[43mnext_event\u001b[49m\u001b[43m(\u001b[49m\u001b[43m)\u001b[49m\n\u001b[0;32m   1163\u001b[0m _handle_event(event, state, \u001b[38;5;28mself\u001b[39m\u001b[38;5;241m.\u001b[39m_response_deserializer)\n\u001b[0;32m   1164\u001b[0m \u001b[38;5;28;01mreturn\u001b[39;00m state, call\n",
      "File \u001b[1;32msrc\\\\python\\\\grpcio\\\\grpc\\\\_cython\\\\_cygrpc/channel.pyx.pxi:388\u001b[0m, in \u001b[0;36mgrpc._cython.cygrpc.SegregatedCall.next_event\u001b[1;34m()\u001b[0m\n",
      "File \u001b[1;32msrc\\\\python\\\\grpcio\\\\grpc\\\\_cython\\\\_cygrpc/channel.pyx.pxi:211\u001b[0m, in \u001b[0;36mgrpc._cython.cygrpc._next_call_event\u001b[1;34m()\u001b[0m\n",
      "File \u001b[1;32msrc\\\\python\\\\grpcio\\\\grpc\\\\_cython\\\\_cygrpc/channel.pyx.pxi:205\u001b[0m, in \u001b[0;36mgrpc._cython.cygrpc._next_call_event\u001b[1;34m()\u001b[0m\n",
      "File \u001b[1;32msrc\\\\python\\\\grpcio\\\\grpc\\\\_cython\\\\_cygrpc/completion_queue.pyx.pxi:78\u001b[0m, in \u001b[0;36mgrpc._cython.cygrpc._latent_event\u001b[1;34m()\u001b[0m\n",
      "File \u001b[1;32msrc\\\\python\\\\grpcio\\\\grpc\\\\_cython\\\\_cygrpc/completion_queue.pyx.pxi:61\u001b[0m, in \u001b[0;36mgrpc._cython.cygrpc._internal_latent_event\u001b[1;34m()\u001b[0m\n",
      "File \u001b[1;32msrc\\\\python\\\\grpcio\\\\grpc\\\\_cython\\\\_cygrpc/completion_queue.pyx.pxi:42\u001b[0m, in \u001b[0;36mgrpc._cython.cygrpc._next\u001b[1;34m()\u001b[0m\n",
      "\u001b[1;31mKeyboardInterrupt\u001b[0m: "
     ]
    }
   ],
   "source": [
    "client.dock_shelf()"
   ]
  },
  {
   "cell_type": "markdown",
   "id": "84f7dd62-c4cf-4f68-95cd-64551a36f07b",
   "metadata": {},
   "source": [
    "#### 家具に拘らず、指定した目的地にある家具を載せる\n",
    "- 指定した目的地に行き、どの家具があるかにかかわらず置いてある家具を載せます。\n",
    "- 未登録の家具の場合、新しい家具として登録します。\n",
    "- 第1引数には目的地のIDを、第2引数にはドッキングの向き (頭から: True, おしりから: False) を指定します。"
   ]
  },
  {
   "cell_type": "code",
   "execution_count": null,
   "id": "19896e24-88db-46dd-9cbd-2b72d9f78370",
   "metadata": {},
   "outputs": [],
   "source": [
    "client.dock_any_shelf_with_registration(\"L01\", False)"
   ]
  },
  {
   "cell_type": "markdown",
   "id": "cbece45f-8650-47ee-8de5-bc24ecfa396b",
   "metadata": {},
   "source": [
    "#### 音声の発話"
   ]
  },
  {
   "cell_type": "code",
   "execution_count": null,
   "id": "24b2bed6-3a35-4bbf-8055-f0085c82ff6e",
   "metadata": {},
   "outputs": [],
   "source": [
    "client.speak(\"こんにちは、カチャカです\")"
   ]
  },
  {
   "cell_type": "markdown",
   "id": "2f668838-c057-4fd8-a9f7-9d6349c5f176",
   "metadata": {},
   "source": [
    "#### マップ上での座標を指定した移動"
   ]
  },
  {
   "cell_type": "code",
   "execution_count": 63,
   "id": "1eb0c83b-926b-4355-b476-04d59c381545",
   "metadata": {},
   "outputs": [
    {
     "data": {
      "text/plain": [
       "success: true"
      ]
     },
     "execution_count": 63,
     "metadata": {},
     "output_type": "execute_result"
    }
   ],
   "source": [
    "client.move_to_pose(0.5, 0.0, 0)"
   ]
  },
  {
   "cell_type": "markdown",
   "id": "067f94ed-b14b-475a-818c-5c9e4914c1b6",
   "metadata": {},
   "source": [
    "#### 前後方向の移動\n",
    "* メートルで距離を指定すると、その距離だけ前進します。(負の値が後退を表します)\n",
    "* (任意) speedに速度[m/s]を指定できます。(正確には、これを最高速度としてフィードバック制御を行います) "
   ]
  },
  {
   "cell_type": "code",
   "execution_count": 47,
   "id": "17fccf8a-53ea-48b7-a686-8eac2e9a6603",
   "metadata": {},
   "outputs": [
    {
     "data": {
      "text/plain": [
       "success: true"
      ]
     },
     "execution_count": 47,
     "metadata": {},
     "output_type": "execute_result"
    }
   ],
   "source": [
    "client.move_forward(0, speed=1.0)\n",
    "client.move_forward(-0.9, speed=1.0)"
   ]
  },
  {
   "cell_type": "markdown",
   "id": "43a60f3e-1bc1-4dc1-a1b0-c0ea1b85e94c",
   "metadata": {},
   "source": [
    "#### その場での回転\n",
    "* ラジアンで角度を指定すると、半時計回り(z軸周りに右ねじの向き)にその場回転します。"
   ]
  },
  {
   "cell_type": "code",
   "execution_count": 78,
   "id": "fb853b75-872e-47d0-9f1d-2bfece5c3750",
   "metadata": {},
   "outputs": [
    {
     "data": {
      "text/plain": [
       "success: true"
      ]
     },
     "execution_count": 78,
     "metadata": {},
     "output_type": "execute_result"
    }
   ],
   "source": [
    "import math\n",
    "\n",
    "client.rotate_in_place(math.pi/2)"
   ]
  },
  {
   "cell_type": "markdown",
   "id": "b7f3e219-c77a-4766-9265-7b7c20da76d1",
   "metadata": {},
   "source": [
    "#### 自己位置の修正\n",
    "* カチャカのマップ上の位置と実際の位置がずれている場合は、カチャカが回転し、周りの環境を見て位置ずれの修正を試します。\n",
    "* 修正が失敗した場合はカチャカの位置は修正されません。"
   ]
  },
  {
   "cell_type": "code",
   "execution_count": null,
   "id": "de4a8a47-92b1-4198-bf0f-2677a4da2f65",
   "metadata": {},
   "outputs": [],
   "source": [
    "client.localize()"
   ]
  },
  {
   "cell_type": "markdown",
   "id": "3c9bb4cf-456e-4bf2-9f12-568c48f1956f",
   "metadata": {},
   "source": [
    "### コマンドの実行状態と管理"
   ]
  },
  {
   "cell_type": "markdown",
   "id": "84405186-9cd4-4b59-b97a-b0f3d2e9b410",
   "metadata": {},
   "source": [
    "#### 実行中のコマンドのキャンセル"
   ]
  },
  {
   "cell_type": "code",
   "execution_count": null,
   "id": "7406f319-9698-42d4-9e17-d60a4b7dc10d",
   "metadata": {},
   "outputs": [],
   "source": [
    "client.cancel_command()"
   ]
  },
  {
   "cell_type": "markdown",
   "id": "f6ada5b1-6af2-47bf-a66b-6f1a352b4123",
   "metadata": {},
   "source": [
    "#### 実行中のコマンドの状態の取得\n",
    "- コマンドが実行中かどうか調べる"
   ]
  },
  {
   "cell_type": "code",
   "execution_count": null,
   "id": "94d4bbd0-c5d8-4eeb-a783-ab37da0a1ccb",
   "metadata": {},
   "outputs": [],
   "source": [
    "client.is_command_running()"
   ]
  },
  {
   "cell_type": "markdown",
   "id": "ef12cc30-0584-4605-bf0a-2009a17e71ba",
   "metadata": {},
   "source": [
    "- 実行中のコマンドを取得する"
   ]
  },
  {
   "cell_type": "code",
   "execution_count": null,
   "id": "7e29ca56-aaa3-404f-84d0-fa3fb7e6d8be",
   "metadata": {},
   "outputs": [],
   "source": [
    "client.get_running_command()"
   ]
  },
  {
   "cell_type": "markdown",
   "id": "5a7ee426-6289-41d3-829e-7b3b4c7c272c",
   "metadata": {},
   "source": [
    "#### 最後に実行されたコマンドの結果の取得"
   ]
  },
  {
   "cell_type": "code",
   "execution_count": null,
   "id": "854b0184-69ad-48ca-9819-4241b8e61c0b",
   "metadata": {},
   "outputs": [],
   "source": [
    "client.get_last_command_result()"
   ]
  },
  {
   "cell_type": "markdown",
   "id": "09740165-8a49-4727-844e-7f19f2e1ffbc",
   "metadata": {},
   "source": [
    "#### コマンド実行履歴の取得"
   ]
  },
  {
   "cell_type": "code",
   "execution_count": null,
   "id": "b242a991-5a4b-4c86-a248-256846020af4",
   "metadata": {},
   "outputs": [],
   "source": [
    "client.get_history_list()"
   ]
  },
  {
   "cell_type": "markdown",
   "id": "09995176-7f46-475b-ba17-82bc84c16de4",
   "metadata": {},
   "source": [
    "#### 待機状態とその解除\n",
    "\n",
    "lock()を実行すると、カチャカを何もしない状態のままその場に留まらせることができます。\n",
    "pythonのプログラムでsleepするのと違って、カチャカは「待機」というコマンドを実行している状態になります。後に続いてcancel_all=Falseでコマンドを実行すると、待機状態が解除されてから次のコマンドに進みます。"
   ]
  },
  {
   "cell_type": "code",
   "execution_count": null,
   "id": "664bf4c8-c92e-456e-abbe-f3471dee030c",
   "metadata": {},
   "outputs": [],
   "source": [
    "client.lock(30.0)\n",
    "client.speak(\"待機状態が解除されました\", cancel_all=False)"
   ]
  },
  {
   "cell_type": "markdown",
   "id": "688f396f-657a-45c8-9b65-4f7b215ad59c",
   "metadata": {},
   "source": [
    "時間が経過するか、proceed()の実行により、待機状態が終了します。"
   ]
  },
  {
   "cell_type": "code",
   "execution_count": null,
   "id": "f5feeeb1-4621-4f2e-9b44-924a7dbfb610",
   "metadata": {},
   "outputs": [],
   "source": [
    "client.proceed()"
   ]
  },
  {
   "cell_type": "markdown",
   "id": "a90b89a7-7d27-45ab-bb3a-5d3ab286773a",
   "metadata": {},
   "source": [
    "### ショートカット\n",
    "スマホアプリのショートカットの一覧の取得や実行ができます。\n",
    "\n",
    "#### 一覧の取得\n",
    "IDとショートカット名の対がdictとして取得できます。"
   ]
  },
  {
   "cell_type": "code",
   "execution_count": null,
   "id": "6efdf35e-fec9-4e2e-94f0-fadcbabfd84f",
   "metadata": {},
   "outputs": [],
   "source": [
    "client.get_shortcuts()"
   ]
  },
  {
   "cell_type": "markdown",
   "id": "fd0dffe1-eed6-4e90-867c-37e6c5c31bfa",
   "metadata": {},
   "source": [
    "#### ショートカットの実行"
   ]
  },
  {
   "cell_type": "code",
   "execution_count": null,
   "id": "350c4996-4a3a-4cd1-a271-8e1ecafe6d40",
   "metadata": {},
   "outputs": [],
   "source": [
    "shortcut_id = min((client.get_shortcuts()).keys())\n",
    "client.start_shortcut_command(shortcut_id, True)"
   ]
  },
  {
   "cell_type": "markdown",
   "id": "75a138e2-547a-4a01-8180-7054aa3c0d7d",
   "metadata": {},
   "source": [
    "#### 家具の位置をリセットする\n",
    "* カチャカがドッキングしていない人が手で家具の位置を動かしたりすると、カチャカの認識と実際の場所がずれることがあります。\n",
    "* 家具をホームに戻し、このメソッドを呼ぶことで認識を合わせることができます。"
   ]
  },
  {
   "cell_type": "code",
   "execution_count": null,
   "id": "42004159-1a4e-45f2-93ea-8c0d5175f073",
   "metadata": {},
   "outputs": [],
   "source": [
    "client.reset_shelf_pose(\"S01\")"
   ]
  },
  {
   "cell_type": "markdown",
   "id": "1c620ac0-194e-44f3-82eb-cf45ca67e1d9",
   "metadata": {},
   "source": [
    "#### 自動充電のオン・オフを切り替える\n",
    "- 一定時間速度指令を受け付けないとカチャカは自動で充電ステーションに戻ります。これを自動充電と呼びます"
   ]
  },
  {
   "cell_type": "code",
   "execution_count": null,
   "id": "1855f579-d4d0-44cf-b07a-96d22da2cd9d",
   "metadata": {},
   "outputs": [],
   "source": [
    "client.set_auto_homing_enabled(True)"
   ]
  },
  {
   "cell_type": "markdown",
   "id": "101019e0-4bf7-45b2-8c74-81fdeae2a0d0",
   "metadata": {},
   "source": [
    "### 音量設定\n",
    "音量を0-10で設定することができます。\n",
    "\n",
    "#### 現在の音量の取得"
   ]
  },
  {
   "cell_type": "code",
   "execution_count": null,
   "id": "35541730-0cd5-49ad-a4f0-d66e986d3457",
   "metadata": {},
   "outputs": [],
   "source": [
    "client.get_speaker_volume()"
   ]
  },
  {
   "cell_type": "markdown",
   "id": "c0fe5685-fe68-4148-8c21-417454757ade",
   "metadata": {},
   "source": [
    "#### 音量の設定"
   ]
  },
  {
   "cell_type": "code",
   "execution_count": null,
   "id": "bc553bc9-e29e-4e37-a7be-7a47a075e507",
   "metadata": {},
   "outputs": [],
   "source": [
    "client.set_speaker_volume(10)"
   ]
  },
  {
   "cell_type": "markdown",
   "id": "b70a04af-5b98-41e8-bd95-e767b5a6ef02",
   "metadata": {},
   "source": [
    "### 速度指令"
   ]
  },
  {
   "cell_type": "markdown",
   "id": "85c39a60-d99c-44a3-870d-f8b2d2e16949",
   "metadata": {},
   "source": [
    "#### 手動操作モードへの変更\n",
    "- 速度を指令してカチャカを動かす場合は手動操縦モードに変更する必要があります。\n",
    "- 60秒経つと自動でオフになるため、必要に応じて定期的に有効にする必要があります。\n",
    "- 充電ドック上にいる場合は前に進んで充電ドックから出ます"
   ]
  },
  {
   "cell_type": "code",
   "execution_count": null,
   "id": "f05d02a1-fddf-48e1-b089-9efaadf2a6d0",
   "metadata": {},
   "outputs": [],
   "source": [
    "client.set_manual_control_enabled(True)"
   ]
  },
  {
   "cell_type": "markdown",
   "id": "e5a8cc6c-0e34-40a4-8c19-469e1d024e27",
   "metadata": {},
   "source": [
    "#### 手動操縦モードの確認"
   ]
  },
  {
   "cell_type": "code",
   "execution_count": null,
   "id": "27abb6c5-5f21-4b1c-890f-7b8c4099b266",
   "metadata": {},
   "outputs": [],
   "source": [
    "client.get_manual_control_enabled()"
   ]
  },
  {
   "cell_type": "markdown",
   "id": "9ee6d52a-c220-4ad0-91e5-7b6c7efd27b9",
   "metadata": {},
   "source": [
    "#### 速度指令\n",
    "- 指令した値は次の指令値が来るまで、もしくは0.3秒間経つまで保持されます\n",
    "- 単位はm/s、rad/sです"
   ]
  },
  {
   "cell_type": "code",
   "execution_count": null,
   "id": "93c1b26f-5120-4084-b3e7-4f9eda74df29",
   "metadata": {},
   "outputs": [],
   "source": [
    "for i in range(100):\n",
    "    client.set_robot_velocity(0.0, 0.3)"
   ]
  },
  {
   "cell_type": "markdown",
   "id": "de448fce-8333-4878-b088-d91eaf2e9505",
   "metadata": {},
   "source": [
    "### 各種センサデータ等の取得"
   ]
  },
  {
   "cell_type": "markdown",
   "id": "37756881",
   "metadata": {},
   "source": [
    "#### 充電状態・充電残量の取得\n",
    "* (充電残量(%), 充電の状態) を返します。\n",
    "* 充電の状態は以下のいずれかです。protoには他の値も定義されていますが、使われていません。\n",
    "  * 充電中: `PowerSupplyStatus.POWER_SUPPLY_STATUS_CHARGING` (=1)\n",
    "  * 放電中: `PowerSupplyStatus.POWER_SUPPLY_STATUS_DISCHARGING` (=2)"
   ]
  },
  {
   "cell_type": "code",
   "execution_count": 42,
   "id": "f0e0846f",
   "metadata": {},
   "outputs": [
    {
     "data": {
      "text/plain": [
       "(94.84781646728516, 1)"
      ]
     },
     "execution_count": 42,
     "metadata": {},
     "output_type": "execute_result"
    }
   ],
   "source": [
    "client.get_battery_info()"
   ]
  },
  {
   "cell_type": "markdown",
   "id": "50b2c468-43b0-4ba7-8152-b159e09244fa",
   "metadata": {},
   "source": [
    "#### マップ上の姿勢の取得\n",
    "- 単位はm, radianです"
   ]
  },
  {
   "cell_type": "code",
   "execution_count": 43,
   "id": "00928761-3e13-42c4-9cdb-ad104c33d97b",
   "metadata": {},
   "outputs": [
    {
     "data": {
      "text/plain": [
       "x: -0.003777877059064183\n",
       "y: -0.0040310498751262025\n",
       "theta: 0.016048882008762855"
      ]
     },
     "execution_count": 43,
     "metadata": {},
     "output_type": "execute_result"
    }
   ],
   "source": [
    "client.get_robot_pose()"
   ]
  },
  {
   "cell_type": "markdown",
   "id": "023a7234-a2d5-4596-9ec2-6c900136f56a",
   "metadata": {},
   "source": [
    "#### マップ情報の取得\n",
    "- マップ画像とマップ座標との対応関係については、[plot_map_robot_lidar.ipynb](../python/demos/plot_map_robot_lidar.ipynb) を参照"
   ]
  },
  {
   "cell_type": "code",
   "execution_count": null,
   "id": "a30f23f7-78b0-4573-b2a9-3faab5040178",
   "metadata": {},
   "outputs": [],
   "source": [
    "map = client.get_png_map()\n",
    "print(map.name)\n",
    "print(map.resolution, map.width, map.height)\n",
    "print(map.origin)\n",
    "display(Image(data=map.data))"
   ]
  },
  {
   "cell_type": "markdown",
   "id": "866456e3-9efc-4f99-8ae7-e25ca74f92bb",
   "metadata": {},
   "source": [
    "#### LiDARの点群情報の取得\n",
    "- LiDARは充電ドック上にいる間は停止しており、データが更新されません\n"
   ]
  },
  {
   "cell_type": "code",
   "execution_count": 88,
   "id": "7b7d1257-22ca-46bd-adb1-996b198a63fa",
   "metadata": {},
   "outputs": [
    {
     "ename": "NameError",
     "evalue": "name 'plt' is not defined",
     "output_type": "error",
     "traceback": [
      "\u001b[1;31m---------------------------------------------------------------------------\u001b[0m",
      "\u001b[1;31mNameError\u001b[0m                                 Traceback (most recent call last)",
      "Cell \u001b[1;32mIn[88], line 7\u001b[0m\n\u001b[0;32m      4\u001b[0m dist \u001b[38;5;241m=\u001b[39m np\u001b[38;5;241m.\u001b[39marray(scan\u001b[38;5;241m.\u001b[39mranges)\n\u001b[0;32m      6\u001b[0m \u001b[38;5;66;03m# LiDARの点群を表示するサンプル\u001b[39;00m\n\u001b[1;32m----> 7\u001b[0m \u001b[43mplt\u001b[49m\u001b[38;5;241m.\u001b[39mscatter(dist \u001b[38;5;241m*\u001b[39m np\u001b[38;5;241m.\u001b[39mcos(theta), dist \u001b[38;5;241m*\u001b[39m np\u001b[38;5;241m.\u001b[39msin(theta))\n",
      "\u001b[1;31mNameError\u001b[0m: name 'plt' is not defined"
     ]
    }
   ],
   "source": [
    "scan = client.get_ros_laser_scan()\n",
    "\n",
    "theta = np.linspace(scan.angle_min, scan.angle_max, len(scan.ranges))\n",
    "dist = np.array(scan.ranges)\n",
    "\n",
    "# LiDARの点群を表示するサンプル\n",
    "plt.scatter(dist * np.cos(theta), dist * np.sin(theta))"
   ]
  },
  {
   "cell_type": "code",
   "execution_count": null,
   "id": "f921bf8c",
   "metadata": {},
   "outputs": [],
   "source": []
  },
  {
   "cell_type": "markdown",
   "id": "f8613933-3e42-4e61-837b-a4b06779a78d",
   "metadata": {},
   "source": [
    "#### IMU情報の取得"
   ]
  },
  {
   "cell_type": "code",
   "execution_count": 41,
   "id": "d953cc6a-4bce-4fa6-9a36-5b4fb3245e22",
   "metadata": {},
   "outputs": [
    {
     "data": {
      "text/plain": [
       "header {\n",
       "  stamp_nsec: 1747102088050981127\n",
       "  frame_id: \"imu_link\"\n",
       "}\n",
       "orientation {\n",
       "}\n",
       "orientation_covariance: 0\n",
       "orientation_covariance: 0\n",
       "orientation_covariance: 0\n",
       "orientation_covariance: 0\n",
       "orientation_covariance: 0\n",
       "orientation_covariance: 0\n",
       "orientation_covariance: 0\n",
       "orientation_covariance: 0\n",
       "orientation_covariance: 0\n",
       "angular_velocity {\n",
       "}\n",
       "angular_velocity_covariance: 0\n",
       "angular_velocity_covariance: 0\n",
       "angular_velocity_covariance: 0\n",
       "angular_velocity_covariance: 0\n",
       "angular_velocity_covariance: 0\n",
       "angular_velocity_covariance: 0\n",
       "angular_velocity_covariance: 0\n",
       "angular_velocity_covariance: 0\n",
       "angular_velocity_covariance: 0\n",
       "linear_acceleration {\n",
       "  x: -0.055068318735312961\n",
       "  y: -0.27175018158513137\n",
       "  z: 10.030813971373638\n",
       "}\n",
       "linear_acceleration_covariance: 0\n",
       "linear_acceleration_covariance: 0\n",
       "linear_acceleration_covariance: 0\n",
       "linear_acceleration_covariance: 0\n",
       "linear_acceleration_covariance: 0\n",
       "linear_acceleration_covariance: 0\n",
       "linear_acceleration_covariance: 0\n",
       "linear_acceleration_covariance: 0\n",
       "linear_acceleration_covariance: 0"
      ]
     },
     "execution_count": 41,
     "metadata": {},
     "output_type": "execute_result"
    }
   ],
   "source": [
    "client.get_ros_imu()"
   ]
  },
  {
   "cell_type": "markdown",
   "id": "64f4a7d0-6d1a-4446-8365-70e800939908",
   "metadata": {},
   "source": [
    "#### オドメトリの取得"
   ]
  },
  {
   "cell_type": "code",
   "execution_count": 65,
   "id": "15ef6009-95f9-4bd5-a594-06e6aa0a0f37",
   "metadata": {},
   "outputs": [
    {
     "data": {
      "text/plain": [
       "header {\n",
       "  stamp_nsec: 1747103900736750126\n",
       "  frame_id: \"odom\"\n",
       "}\n",
       "child_frame_id: \"base_footprint\"\n",
       "pose {\n",
       "  pose {\n",
       "    position {\n",
       "      x: 0.072594571022672236\n",
       "      y: 0.0050687542335542436\n",
       "    }\n",
       "    orientation {\n",
       "      z: -0.07367727815476921\n",
       "      w: 0.99728213594935344\n",
       "    }\n",
       "  }\n",
       "  covariance: 638127849091175.25\n",
       "  covariance: -144914406381737\n",
       "  covariance: 0\n",
       "  covariance: 0\n",
       "  covariance: 0\n",
       "  covariance: 3.23054314556531e-22\n",
       "  covariance: -144914406381733.59\n",
       "  covariance: 33050741651041.465\n",
       "  covariance: 0\n",
       "  covariance: 0\n",
       "  covariance: 0\n",
       "  covariance: 2.1847734489021296e-21\n",
       "  covariance: 0\n",
       "  covariance: 0\n",
       "  covariance: 4.9916348865335657e-07\n",
       "  covariance: 1.2790492051008854e-21\n",
       "  covariance: -1.8289659260983045e-18\n",
       "  covariance: 0\n",
       "  covariance: 0\n",
       "  covariance: 0\n",
       "  covariance: 1.2790492051008856e-21\n",
       "  covariance: 4.9833254260443143e-07\n",
       "  covariance: 3.19724679838364e-30\n",
       "  covariance: 0\n",
       "  covariance: 0\n",
       "  covariance: 0\n",
       "  covariance: -1.8289659260983041e-18\n",
       "  covariance: 2.2042514584328064e-30\n",
       "  covariance: 4.9833254260443143e-07\n",
       "  covariance: 0\n",
       "  covariance: 3.23054314556531e-22\n",
       "  covariance: 2.1847734489021296e-21\n",
       "  covariance: 0\n",
       "  covariance: 0\n",
       "  covariance: 0\n",
       "  covariance: 9.99996642752988e-10\n",
       "}\n",
       "twist {\n",
       "  twist {\n",
       "    linear {\n",
       "      x: 9.8657118479395946e-05\n",
       "    }\n",
       "    angular {\n",
       "      z: -0.13820581987617905\n",
       "    }\n",
       "  }\n",
       "  covariance: 0.0012844569348858526\n",
       "  covariance: 0\n",
       "  covariance: 0\n",
       "  covariance: 0\n",
       "  covariance: 0\n",
       "  covariance: 0\n",
       "  covariance: 0\n",
       "  covariance: 279990295.08412093\n",
       "  covariance: 0\n",
       "  covariance: 0\n",
       "  covariance: 0\n",
       "  covariance: 0\n",
       "  covariance: 0\n",
       "  covariance: 0\n",
       "  covariance: 4.9874732432109179e-07\n",
       "  covariance: 7.7007206594538963e-31\n",
       "  covariance: -1.090100961972414e-27\n",
       "  covariance: 0\n",
       "  covariance: 0\n",
       "  covariance: 0\n",
       "  covariance: 7.700720659453898e-31\n",
       "  covariance: 4.9506304517015994e-07\n",
       "  covariance: 7.440877297402234e-39\n",
       "  covariance: 0\n",
       "  covariance: 0\n",
       "  covariance: 0\n",
       "  covariance: -1.090100961972414e-27\n",
       "  covariance: 5.1547033295297041e-39\n",
       "  covariance: 4.9506304517015994e-07\n",
       "  covariance: 0\n",
       "  covariance: 0\n",
       "  covariance: 0\n",
       "  covariance: 0\n",
       "  covariance: 0\n",
       "  covariance: 0\n",
       "  covariance: 9.9998992839421359e-10\n",
       "}"
      ]
     },
     "execution_count": 65,
     "metadata": {},
     "output_type": "execute_result"
    }
   ],
   "source": [
    "client.get_ros_odometry()"
   ]
  },
  {
   "cell_type": "markdown",
   "id": "477eb476-99e5-4998-a6da-76df2b8d6f5c",
   "metadata": {},
   "source": [
    "### カメラ関連"
   ]
  },
  {
   "cell_type": "markdown",
   "id": "b8d85f2e-788f-4461-a9a6-4b4c75647235",
   "metadata": {},
   "source": [
    "#### カメラ情報の取得"
   ]
  },
  {
   "cell_type": "code",
   "execution_count": 71,
   "id": "b6faf056-bf28-4dea-88f3-612927e9114b",
   "metadata": {},
   "outputs": [
    {
     "data": {
      "text/plain": [
       "header {\n",
       "  stamp_nsec: 1747103974817850009\n",
       "  frame_id: \"camera_front\"\n",
       "}\n",
       "height: 720\n",
       "width: 1280\n",
       "distortion_model: \"plumb_bob\"\n",
       "D: -0.27289859035437636\n",
       "D: 0.099431979574457471\n",
       "D: -0.00068297275581652613\n",
       "D: -1.6916276799448249e-05\n",
       "D: -0.019507292609844646\n",
       "K: 503.56142055797034\n",
       "K: 0\n",
       "K: 641.66621967314109\n",
       "K: 0\n",
       "K: 497.84906863249745\n",
       "K: 337.01300011641081\n",
       "K: 0\n",
       "K: 0\n",
       "K: 1\n",
       "R: 1\n",
       "R: 0\n",
       "R: 0\n",
       "R: 0\n",
       "R: 1\n",
       "R: 0\n",
       "R: 0\n",
       "R: 0\n",
       "R: 1\n",
       "P: 503.56142055797034\n",
       "P: 0\n",
       "P: 641.66621967314109\n",
       "P: 0\n",
       "P: 0\n",
       "P: 497.84906863249745\n",
       "P: 337.01300011641081\n",
       "P: 0\n",
       "P: 0\n",
       "P: 0\n",
       "P: 1\n",
       "P: 0\n",
       "roi {\n",
       "}"
      ]
     },
     "execution_count": 71,
     "metadata": {},
     "output_type": "execute_result"
    }
   ],
   "source": [
    "client.get_front_camera_ros_camera_info()"
   ]
  },
  {
   "cell_type": "markdown",
   "id": "6388dc9f-a373-4afc-bda0-b6a2472c0f77",
   "metadata": {},
   "source": [
    "#### フロントカメラ画像の取得"
   ]
  },
  {
   "cell_type": "code",
   "execution_count": 77,
   "id": "23b8dbd4-9f49-4a1e-b45a-62cf5598de90",
   "metadata": {
    "scrolled": true
   },
   "outputs": [
    {
     "data": {
      "image/jpeg": "[encoded data removed]",
      "text/plain": [
       "<IPython.core.display.Image object>"
      ]
     },
     "metadata": {},
     "output_type": "display_data"
    }
   ],
   "source": [
    "image = client.get_front_camera_ros_compressed_image()\n",
    "display(Image(data=image.data, format=\"jpeg\"))"
   ]
  },
  {
   "cell_type": "markdown",
   "id": "51a5afa8-3c8c-4430-a5a9-a01d4f88e37c",
   "metadata": {},
   "source": [
    "- また、劣化の無いデータが必要な場合は`get_front_camera_ros_image`で取得する事が可能です。  \n",
    "- ただし、データ量が増加するため注意が必要です。\n"
   ]
  },
  {
   "cell_type": "markdown",
   "id": "18b0f0e4-3531-4bea-93e9-8b9979f37062",
   "metadata": {},
   "source": [
    "#### 物体検出結果の取得\n",
    "- カメラで見えている物体(充電器, 家具, 人)の情報を取得します。\n",
    "- カメラを起動してから呼び出す必要があります。\n",
    "- 画像中への描画は[物体検出のサンプル](../python/demos/get_object_detection.ipynb)参照"
   ]
  },
  {
   "cell_type": "code",
   "execution_count": null,
   "id": "16ca448f-ccc2-4fb7-9161-9b65004278b2",
   "metadata": {
    "scrolled": true
   },
   "outputs": [],
   "source": [
    "client.get_object_detection()"
   ]
  },
  {
   "cell_type": "markdown",
   "id": "3cbf4757-de87-4f3e-909b-a04738866ae3",
   "metadata": {},
   "source": [
    "### マップのインポート・エスクポート\n",
    "\n",
    "#### マップ一覧の取得"
   ]
  },
  {
   "cell_type": "code",
   "execution_count": null,
   "id": "ef4436ec-f841-4a13-9b1e-57d7db3370f5",
   "metadata": {},
   "outputs": [],
   "source": [
    "map_list = client.get_map_list()\n",
    "for map_list_entry in map_list:\n",
    "    print(\"id:\", map_list_entry.id)\n",
    "    print(\"name:\", map_list_entry.name)"
   ]
  },
  {
   "cell_type": "markdown",
   "id": "2eeaf350-c8c1-4247-818d-c63622140bf4",
   "metadata": {},
   "source": [
    "#### 現在使用中のマップIDの取得"
   ]
  },
  {
   "cell_type": "code",
   "execution_count": null,
   "id": "66471810-5a8d-4ee6-a176-b88bd96755f7",
   "metadata": {},
   "outputs": [],
   "source": [
    "current_map_id = client.get_current_map_id()\n",
    "current_map_id"
   ]
  },
  {
   "cell_type": "markdown",
   "id": "be6d377a-c3f0-47bf-8f8d-199ade46de67",
   "metadata": {},
   "source": [
    "#### マップのプレビューの取得\n",
    "* 上で取得したマップ一覧の中から、IDを指定してそのプレビュー(PNG形式のマップ画像)を取得することができます。\n",
    "* ここでは、現在使用中のマップIDを指定する例を示します。(現在使用中のマップの場合はclient.get_png_map()で取得することもできます)"
   ]
  },
  {
   "cell_type": "code",
   "execution_count": null,
   "id": "5be80500-0e4a-48bd-9b40-31105d29d2d0",
   "metadata": {},
   "outputs": [],
   "source": [
    "current_map_preview = client.load_map_preview(current_map_id)\n",
    "display(Image(data=current_map_preview.data, format=\"png\"))"
   ]
  },
  {
   "cell_type": "markdown",
   "id": "d8ce2df4-b665-4fcf-bb13-11b4f3dc1c5f",
   "metadata": {},
   "source": [
    "#### マップのエクスポート\n",
    "* マップをエクスポートすることで、バックアップを取ったり他のカチャカ機体で再利用することができます。\n",
    "* 上で取得したマップの一覧から、IDを指定してエクスポートすることができます。\n",
    "* 第2引数に指定したパスにバイナリファイルとして保存します。\n",
    "* データは独自形式のバイナリになっています。インポートAPIでのみ利用することができるデータです。"
   ]
  },
  {
   "cell_type": "code",
   "execution_count": null,
   "id": "e8e27597-76d4-4c2f-b61e-8ea03201753d",
   "metadata": {},
   "outputs": [],
   "source": [
    "EXPORT_TARGET_FILE_PATH = \"current_map\"\n",
    "client.export_map(current_map_id, \"current_map\")"
   ]
  },
  {
   "cell_type": "markdown",
   "id": "9fad0bfe-e375-49b1-a14a-2c4c5354a00e",
   "metadata": {},
   "source": [
    "#### マップのインポート\n",
    "* 上のエクスポートAPIによって出力されたファイルを別の機体などでインポートすることができます。"
   ]
  },
  {
   "cell_type": "code",
   "execution_count": null,
   "id": "f88532f7-b692-44fe-9107-c1e536f5e9d0",
   "metadata": {},
   "outputs": [],
   "source": [
    "client.import_map(EXPORT_TARGET_FILE_PATH)"
   ]
  },
  {
   "cell_type": "markdown",
   "id": "b4f321b6-79fe-457a-9a7b-14932d783057",
   "metadata": {},
   "source": [
    "### 起動状態の管理\n",
    "\n",
    "#### カチャカを再起動する\n",
    "実行してから再起動が始まり、LEDがくるくると回転しはじめるまで数秒かかることがあります。"
   ]
  },
  {
   "cell_type": "code",
   "execution_count": null,
   "id": "3212bf2f-4186-4a83-b586-6e09106809fc",
   "metadata": {},
   "outputs": [],
   "source": [
    "client.restart_robot()"
   ]
  },
  {
   "cell_type": "markdown",
   "id": "b514442b",
   "metadata": {},
   "source": [
    "### 一時停止\n",
    "\n",
    "#### ソフト的に一時停止ボタンを押した状態にする"
   ]
  },
  {
   "cell_type": "code",
   "execution_count": null,
   "id": "92d653b2",
   "metadata": {},
   "outputs": [],
   "source": [
    "client.set_emergency_stop()"
   ]
  }
 ],
 "metadata": {
  "kernelspec": {
   "display_name": "base",
   "language": "python",
   "name": "python3"
  },
  "language_info": {
   "codemirror_mode": {
    "name": "ipython",
    "version": 3
   },
   "file_extension": ".py",
   "mimetype": "text/x-python",
   "name": "python",
   "nbconvert_exporter": "python",
   "pygments_lexer": "ipython3",
   "version": "3.11.7"
  }
 },
 "nbformat": 4,
 "nbformat_minor": 5
}
